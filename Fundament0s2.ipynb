{
  "nbformat": 4,
  "nbformat_minor": 0,
  "metadata": {
    "colab": {
      "name": "Fundament0s2.ipynb",
      "provenance": [],
      "authorship_tag": "ABX9TyOtDNUjb+GlJXae+isOLVyE",
      "include_colab_link": true
    },
    "kernelspec": {
      "name": "python3",
      "display_name": "Python 3"
    },
    "language_info": {
      "name": "python"
    }
  },
  "cells": [
    {
      "cell_type": "markdown",
      "metadata": {
        "id": "view-in-github",
        "colab_type": "text"
      },
      "source": [
        "<a href=\"https://colab.research.google.com/github/MauricioAbadRangel/Fundamentos/blob/main/Fundament0s2.ipynb\" target=\"_parent\"><img src=\"https://colab.research.google.com/assets/colab-badge.svg\" alt=\"Open In Colab\"/></a>"
      ]
    },
    {
      "cell_type": "code",
      "metadata": {
        "id": "eiD2shrIvXpg"
      },
      "source": [
        ""
      ],
      "execution_count": null,
      "outputs": []
    },
    {
      "cell_type": "markdown",
      "metadata": {
        "id": "h2Yue1ly2u-E"
      },
      "source": [
        ""
      ]
    },
    {
      "cell_type": "markdown",
      "metadata": {
        "id": "OsZVrmWbv8Sj"
      },
      "source": [
        "#Tuplas\n",
        "-Datos agrupados\n",
        "\n",
        "-Pueden tener de 0 a n elementos\n",
        "\n",
        "\n",
        "-No son mutables(No se pueden eliminar o cambiar)\n",
        "\n",
        "\n",
        "-Son buenas para almacenar informacion de consulta\n",
        "\n",
        "-Pueden almacenar info de diferentes tipo de dato \n",
        "\n",
        "-Estrucutura secuencial indexada desde 0\n",
        "\n",
        "-Pueden esta anidadas \n",
        "\n",
        "-Tienen metodos utiles \n",
        "\n",
        "-Se declara usando#\n",
        ".( ) \n",
        ".tuple"
      ]
    },
    {
      "cell_type": "code",
      "metadata": {
        "colab": {
          "base_uri": "https://localhost:8080/"
        },
        "id": "WxwhYe75w_3T",
        "outputId": "034925f8-e3ac-4252-b22a-ff6dd35dcedc"
      },
      "source": [
        "info = (\"juan23\" , \"dios1234\" , \"123.232.1.12\")\n",
        "print(info)\n",
        "print(info[1])\n",
        "#info [1]= \"patito 23\"\n",
        "\n",
        "numeros = (0,1,2,3,4,5,6,7,8,9,10,11,12,13,14,15)\n",
        "print( numeros)\n",
        "print(numeros[5:11])\n",
        "\n",
        "cosas = (info, numeros)\n",
        "print(cosas)\n",
        "print(cosas[1][5:11:1])\n",
        "print(info[2])\n",
        "print(cosas[0][2][4:7])"
      ],
      "execution_count": null,
      "outputs": [
        {
          "output_type": "stream",
          "name": "stdout",
          "text": [
            "('juan23', 'dios1234', '123.232.1.12')\n",
            "dios1234\n",
            "(0, 1, 2, 3, 4, 5, 6, 7, 8, 9, 10, 11, 12, 13, 14, 15)\n",
            "(5, 6, 7, 8, 9, 10)\n",
            "(('juan23', 'dios1234', '123.232.1.12'), (0, 1, 2, 3, 4, 5, 6, 7, 8, 9, 10, 11, 12, 13, 14, 15))\n",
            "(5, 6, 7, 8, 9, 10)\n",
            "123.232.1.12\n",
            "232\n"
          ]
        }
      ]
    },
    {
      "cell_type": "markdown",
      "metadata": {
        "id": "-560EqUQ0pWe"
      },
      "source": [
        "#Metodos de las tuplas\n",
        "Son los mismos de las listas pero que no involucren mutabilidada\n"
      ]
    },
    {
      "cell_type": "code",
      "metadata": {
        "colab": {
          "base_uri": "https://localhost:8080/"
        },
        "id": "fhbCZ4mIxvbY",
        "outputId": "c612fe07-ff57-4a01-b203-3208e6d73019"
      },
      "source": [
        "dir(tuple)\n"
      ],
      "execution_count": null,
      "outputs": [
        {
          "output_type": "execute_result",
          "data": {
            "text/plain": [
              "['__add__',\n",
              " '__class__',\n",
              " '__contains__',\n",
              " '__delattr__',\n",
              " '__dir__',\n",
              " '__doc__',\n",
              " '__eq__',\n",
              " '__format__',\n",
              " '__ge__',\n",
              " '__getattribute__',\n",
              " '__getitem__',\n",
              " '__getnewargs__',\n",
              " '__gt__',\n",
              " '__hash__',\n",
              " '__init__',\n",
              " '__init_subclass__',\n",
              " '__iter__',\n",
              " '__le__',\n",
              " '__len__',\n",
              " '__lt__',\n",
              " '__mul__',\n",
              " '__ne__',\n",
              " '__new__',\n",
              " '__reduce__',\n",
              " '__reduce_ex__',\n",
              " '__repr__',\n",
              " '__rmul__',\n",
              " '__setattr__',\n",
              " '__sizeof__',\n",
              " '__str__',\n",
              " '__subclasshook__',\n",
              " 'count',\n",
              " 'index']"
            ]
          },
          "metadata": {},
          "execution_count": 15
        }
      ]
    },
    {
      "cell_type": "markdown",
      "metadata": {
        "id": "AaUU7qh62wm9"
      },
      "source": [
        "#Diccionarios\n",
        "### Caracteristicas de los diccionarios \n",
        "\n",
        "- Agrupan datos de forma no lineal \n",
        "\n",
        "- Formado por pares del tipo llave:valor\n",
        "- llave: valor, donde:\n",
        "\n",
        "\n",
        "  -llave es de tipo string\n",
        " \n",
        "  -Valor puede ser de cualquier tipo de dato, incluyendo los diccionarios\n",
        "\n",
        "  Se seleccionan de la forma: [\"id_llave\"]\n",
        "  -Son mutables\n",
        "  -Son equivalentes al tipo de dato JSON del lenguaje JavaScrip\n",
        "\n",
        "  -Se declaran con {  }  dict()"
      ]
    },
    {
      "cell_type": "code",
      "metadata": {
        "colab": {
          "base_uri": "https://localhost:8080/"
        },
        "id": "JJzqiRfv356Z",
        "outputId": "00c9be49-2ef7-407a-f22a-9c73351f791e"
      },
      "source": [
        "alumno = {\"nombre\": \"Jose\"}\n",
        "print(alumno)\n",
        "print(alumno[\"nombre\"])\n",
        "alumno = {\"nombre\" :\"Jose\" , \"nc\":\"2129229292\" , \"edad\":18}\n",
        "print(alumno[\"edad\"])\n",
        "print(alumno[\"nombre\"].upper())\n",
        "\n",
        "print(\"alumno 2:\")\n",
        "alumno2 = dict()\n",
        "alumno2 [\"nombre\"] = \"jose\"\n",
        "print (alumno2)\n",
        "alumno2[\"nc\"] = 2129229292\n",
        "alumno2[\"edad\"] = 18\n",
        "print(alumno2)\n"
      ],
      "execution_count": 21,
      "outputs": [
        {
          "output_type": "stream",
          "name": "stdout",
          "text": [
            "{'nombre': 'Jose'}\n",
            "Jose\n",
            "18\n",
            "JOSE\n",
            "alumno 2:\n",
            "{'nombre': 'jose'}\n",
            "{'nombre': 'jose', 'nc': 2129229292, 'edad': 18}\n"
          ]
        }
      ]
    },
    {
      "cell_type": "code",
      "metadata": {
        "colab": {
          "base_uri": "https://localhost:8080/"
        },
        "id": "J-qMQzsT8RRf",
        "outputId": "31d0f229-f4d7-4bcf-9cea-e35254f228a6"
      },
      "source": [
        "cliente = { \"id\":\"CT2121\" ,\n",
        "           \"NOMBRE\" :\"Jose Pedroza Rosales\",\n",
        "           \"telefonos\": \"casa= 557566541 cel=5554567\"}\n",
        "print(cliente)\n",
        "print(cliente[\"telefonos\"],[\"NOMBRE\"])"
      ],
      "execution_count": 19,
      "outputs": [
        {
          "output_type": "stream",
          "name": "stdout",
          "text": [
            "{'id': 'CT2121', 'NOMBRE': 'Jose Pedroza Rosales', 'telefonos': 'casa= 557566541 cel=5554567'}\n",
            "casa= 557566541 cel=5554567 ['NOMBRE']\n"
          ]
        }
      ]
    },
    {
      "cell_type": "code",
      "metadata": {
        "colab": {
          "base_uri": "https://localhost:8080/"
        },
        "id": "tU6QiSy1EyjF",
        "outputId": "2de03317-ac22-4b2c-9994-46c84bc8d826"
      },
      "source": [
        "cliente = { \"id\":\"CT2121\" ,\n",
        "            \"nombre\" : {\n",
        "                \"nombres\" : [\"José\", \"Eduardo\"],\n",
        "                \"paterno\" : \"Pedroza\",\n",
        "                \"materno\" : \"Rosales\"\n",
        "            } ,\n",
        "            \"telefonos\" : {\n",
        "                \"casa\" : \"55-6632-4234\",\n",
        "                \"trabajo\":\"55-443-3232\" ,\n",
        "                \"celular\":\"044-55-234234\"\n",
        "            } ,\n",
        "           \"productos\":{\n",
        "               \"ahorro\":{ \"numero_cuenta\":\"7788\" , \"ahorro\": 2500.5 },\n",
        "               \"tarjetas\":[\n",
        "                            {\"tipo\":\"debito\" , \"saldo\" : 10000.5  },\n",
        "                            {\"tipo\":\"credito preferente\" , \"limite\":250000.5},\n",
        "                            {\"tipo\":\"lite\" , \"limite\": 15000.5 }\n",
        "                ]\n",
        "           },\n",
        "           \"direccion\":{\n",
        "               \"calle\":\"Av. central\",\n",
        "               \"numero\" : 1245,\n",
        "               \"colonia\" :\"Impulsora\",\n",
        "               \"delegacion\" :\"neza\",\n",
        "               \"estado\" : {\n",
        "                            \"clave\" : 15,\n",
        "                           \"nombre_corto\":\"EdoMex\",\n",
        "                           \"nombre\": \"Estado de México\"\n",
        "                            }\n",
        "           }\n",
        "\n",
        "            }\n",
        "print( cliente[\"telefonos\"][\"casa\"] )\n",
        "print(cliente)"
      ],
      "execution_count": 20,
      "outputs": [
        {
          "output_type": "stream",
          "name": "stdout",
          "text": [
            "55-6632-4234\n",
            "{'id': 'CT2121', 'nombre': {'nombres': ['José', 'Eduardo'], 'paterno': 'Pedroza', 'materno': 'Rosales'}, 'telefonos': {'casa': '55-6632-4234', 'trabajo': '55-443-3232', 'celular': '044-55-234234'}, 'productos': {'ahorro': {'numero_cuenta': '7788', 'ahorro': 2500.5}, 'tarjetas': [{'tipo': 'debito', 'saldo': 10000.5}, {'tipo': 'credito preferente', 'limite': 250000.5}, {'tipo': 'lite', 'limite': 15000.5}]}, 'direccion': {'calle': 'Av. central', 'numero': 1245, 'colonia': 'Impulsora', 'delegacion': 'neza', 'estado': {'clave': 15, 'nombre_corto': 'EdoMex', 'nombre': 'Estado de México'}}}\n"
          ]
        }
      ]
    },
    {
      "cell_type": "code",
      "metadata": {
        "id": "OajYMo5HEynT"
      },
      "source": [
        ""
      ],
      "execution_count": null,
      "outputs": []
    },
    {
      "cell_type": "code",
      "metadata": {
        "id": "P-JPR5Zt_wuM"
      },
      "source": [
        ""
      ],
      "execution_count": null,
      "outputs": []
    },
    {
      "cell_type": "code",
      "metadata": {
        "id": "5ZihxVei8RXS"
      },
      "source": [
        ""
      ],
      "execution_count": null,
      "outputs": []
    }
  ]
}